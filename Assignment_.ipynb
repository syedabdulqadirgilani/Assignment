{
  "nbformat": 4,
  "nbformat_minor": 0,
  "metadata": {
    "colab": {
      "name": "Assignment .ipynb",
      "provenance": []
    },
    "kernelspec": {
      "name": "python3",
      "display_name": "Python 3"
    },
    "language_info": {
      "name": "python"
    }
  },
  "cells": [
    {
      "cell_type": "code",
      "execution_count": 2,
      "metadata": {
        "colab": {
          "base_uri": "https://localhost:8080/"
        },
        "id": "Scwk7Fxlmx_L",
        "outputId": "aec5a20c-2461-4ac8-ee79-2f1de4eb74d7"
      },
      "outputs": [
        {
          "output_type": "stream",
          "name": "stdout",
          "text": [
            "Twinkle, twinkle, \n",
            "little star, \n",
            "\tHow \n",
            "I wonder what \n",
            "you are! \n",
            "\t\tUp \n",
            "above the world so high, \n",
            "\n",
            "\t\tLike a diamond in the sky. \n",
            "\n",
            "Twinkle, twinkle, little star, \n",
            "\n",
            "\tHow I wonder what you are!\n"
          ]
        }
      ],
      "source": [
        "print('''Twinkle, twinkle, \n",
        "little star, \\n\\tHow \n",
        "I wonder what \n",
        "you are! \\n\\t\\tUp \n",
        "above the world so high, \n",
        "\\n\\t\\tLike a diamond in the sky. \n",
        "\\nTwinkle, twinkle, little star, \n",
        "\\n\\tHow I wonder what you are!''')"
      ]
    },
    {
      "cell_type": "code",
      "source": [
        "import sys\n",
        "print(\"Python Version and version information\",sys.version,sys.version_info)"
      ],
      "metadata": {
        "colab": {
          "base_uri": "https://localhost:8080/"
        },
        "id": "hr31lh9LnqKJ",
        "outputId": "480da2a3-36ae-47c9-8131-192e2a9253da"
      },
      "execution_count": 7,
      "outputs": [
        {
          "output_type": "stream",
          "name": "stdout",
          "text": [
            "Python Version and version information 3.7.12 (default, Sep 10 2021, 00:21:48) \n",
            "[GCC 7.5.0] sys.version_info(major=3, minor=7, micro=12, releaselevel='final', serial=0)\n"
          ]
        }
      ]
    },
    {
      "cell_type": "code",
      "source": [
        "import datetime\n",
        "datetime.datetime.now()"
      ],
      "metadata": {
        "colab": {
          "base_uri": "https://localhost:8080/"
        },
        "id": "ICJ7jKsqoBsN",
        "outputId": "54a06781-fa47-455b-c777-739ff3989906"
      },
      "execution_count": 10,
      "outputs": [
        {
          "output_type": "execute_result",
          "data": {
            "text/plain": [
              "datetime.datetime(2021, 12, 28, 20, 2, 47, 102617)"
            ]
          },
          "metadata": {},
          "execution_count": 10
        }
      ]
    },
    {
      "cell_type": "code",
      "source": [
        "PI = 3.14\n",
        "r=int(input(\"Enter the radius of a circle:- \"))\n",
        "area=PI*r**2\n",
        "print(\"Area of a circle = \",area)"
      ],
      "metadata": {
        "colab": {
          "base_uri": "https://localhost:8080/"
        },
        "id": "O3Cy-fRooxlG",
        "outputId": "03cbe5ce-32b4-48d5-fcb4-7dbe6901848c"
      },
      "execution_count": 12,
      "outputs": [
        {
          "output_type": "stream",
          "name": "stdout",
          "text": [
            "Enter the radius of a circle:- 2\n",
            "Area of a circle =  12.56\n"
          ]
        }
      ]
    },
    {
      "cell_type": "code",
      "source": [
        "f_n=input(\"Enter First Name \")\n",
        "l_n=input(\"Enter Last Name \")\n",
        "print(l_n+\" \"+f_n)"
      ],
      "metadata": {
        "colab": {
          "base_uri": "https://localhost:8080/"
        },
        "id": "y1JpEVHEpCEZ",
        "outputId": "26892ee8-dac7-485e-cd11-7911b23b2e89"
      },
      "execution_count": 14,
      "outputs": [
        {
          "output_type": "stream",
          "name": "stdout",
          "text": [
            "Enter First Name Ali\n",
            "Enter Last Name Khan\n",
            "Khan Ali\n"
          ]
        }
      ]
    },
    {
      "cell_type": "code",
      "source": [
        "a=int(input(\"Enter Number 1 \"))\n",
        "b=int(input(\"Enter Number 2 \"))\n",
        "print(\"Sum of Number 1 and Number 2 is:- \",int(a+b))"
      ],
      "metadata": {
        "colab": {
          "base_uri": "https://localhost:8080/"
        },
        "id": "waAEGPHUqeYS",
        "outputId": "a429bf7d-01f8-4b45-d958-35178b7ce9ff"
      },
      "execution_count": 17,
      "outputs": [
        {
          "output_type": "stream",
          "name": "stdout",
          "text": [
            "Enter Number 1 4\n",
            "Enter Number 2 4\n",
            "Sum of Number 1 and Number 2 is:-  8\n"
          ]
        }
      ]
    },
    {
      "cell_type": "code",
      "source": [
        ""
      ],
      "metadata": {
        "id": "NGM0z0r1qzhk"
      },
      "execution_count": null,
      "outputs": []
    }
  ]
}